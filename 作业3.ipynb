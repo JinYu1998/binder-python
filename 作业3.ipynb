{
 "cells": [
  {
   "cell_type": "markdown",
   "id": "37ff6b63",
   "metadata": {},
   "source": [
    "# 此 ipynb 文件请不要在Apple Silicon机器上运行！！！\n",
    "\n",
    "# 运行此文件请保证机器内存大于等于8G\n",
    "\n",
    "### 数据集使用的是 Kaggle 上 Housing Prices Competition for Kaggle Learn Users的数据\n"
   ]
  },
  {
   "cell_type": "markdown",
   "id": "5ddc29f8",
   "metadata": {},
   "source": [
    "## Step - 1 ： 准备环境"
   ]
  },
  {
   "cell_type": "code",
   "execution_count": 4,
   "id": "4f5d3a4e",
   "metadata": {},
   "outputs": [],
   "source": [
    "# python3 -m pip install -U pip\n",
    "# python3 -m pip install -U setuptools wheel\n",
    "# python3 -m pip install -U \"mxnet<2.0.0\"\n",
    "# python3 -m pip install autogluon  # autogluon==0.3.1"
   ]
  },
  {
   "cell_type": "code",
   "execution_count": 5,
   "id": "781462d6",
   "metadata": {},
   "outputs": [
    {
     "name": "stderr",
     "output_type": "stream",
     "text": [
      "Loaded data from: train.csv | Columns = 81 / 81 | Rows = 1460 -> 1460\n"
     ]
    }
   ],
   "source": [
    "from autogluon.tabular import TabularDataset, TabularPredictor\n",
    "\n",
    "train_data = TabularDataset('train.csv')\n",
    "id, label = 'Id', 'SalePrice'   # csv文件中的 id 和 预测值\n",
    "# 数据预处理\n"
   ]
  },
  {
   "cell_type": "code",
   "execution_count": null,
   "id": "b9dabbb0",
   "metadata": {},
   "outputs": [],
   "source": []
  },
  {
   "cell_type": "markdown",
   "id": "b97a108f",
   "metadata": {},
   "source": [
    "## autogluon 会自动做特征提取，然后用多个分类器来训练数据"
   ]
  },
  {
   "cell_type": "code",
   "execution_count": 13,
   "id": "6c5ada11",
   "metadata": {},
   "outputs": [],
   "source": [
    "# 训练模型\n",
    "# 丢掉样本的ID列\n",
    "# 然后创建一个 predictor 来预测label列\n",
    "# predictor = TabularPredictor(label=label).fit(train_data.drop(columns=[id]))\n",
    "\n",
    "\n",
    "# 这里直接夹在训练好的模型\n",
    "predictor = TabularPredictor.load(\"AutogluonModels/ag-20210921_151658/\")"
   ]
  },
  {
   "cell_type": "markdown",
   "id": "1d9dc1a4",
   "metadata": {},
   "source": [
    "## Step - 2 ： 预测"
   ]
  },
  {
   "cell_type": "code",
   "execution_count": 14,
   "id": "1716884f",
   "metadata": {},
   "outputs": [
    {
     "name": "stderr",
     "output_type": "stream",
     "text": [
      "Loaded data from: test.csv | Columns = 80 / 80 | Rows = 1459 -> 1459\n",
      "WARNING: Int features without null values at train time contain null values at inference time! Imputing nulls to 0. To avoid this, pass the features as floats during fit!\n",
      "WARNING: Int features with nulls: ['BsmtFinSF1', 'BsmtFinSF2', 'BsmtUnfSF', 'TotalBsmtSF', 'BsmtFullBath', 'BsmtHalfBath', 'GarageCars', 'GarageArea']\n"
     ]
    }
   ],
   "source": [
    "import pandas as pd\n",
    "test_data = TabularDataset('test.csv')\n",
    "# 预测的时候丢弃掉id\n",
    "preds = predictor.predict(test_data.drop(columns=[id]))"
   ]
  },
  {
   "cell_type": "markdown",
   "id": "ef671c36",
   "metadata": {},
   "source": [
    "## Step - 3 ： 生成最终的文件，并且提交到Kaggle上"
   ]
  },
  {
   "cell_type": "code",
   "execution_count": 15,
   "id": "9cc384f5",
   "metadata": {},
   "outputs": [],
   "source": [
    "submission = pd.DataFrame({id:test_data[id], label:preds})\n",
    "# 转csv\n",
    "submission.to_csv('submission.csv', index=False)"
   ]
  },
  {
   "cell_type": "markdown",
   "id": "0955a994",
   "metadata": {},
   "source": [
    "# 排名 262/23735"
   ]
  },
  {
   "cell_type": "code",
   "execution_count": 12,
   "id": "9a807363",
   "metadata": {},
   "outputs": [
    {
     "name": "stderr",
     "output_type": "stream",
     "text": [
      "TabularPredictor saved. To load, use: predictor = TabularPredictor.load(\"AutogluonModels/ag-20210921_151658/\")\n"
     ]
    }
   ],
   "source": [
    "# 保存训练好的模型\n",
    "# 下次使用的时候可以不用训练 直接加载\n",
    "predictor.save()"
   ]
  },
  {
   "cell_type": "code",
   "execution_count": null,
   "id": "2ddaebaf",
   "metadata": {},
   "outputs": [],
   "source": []
  }
 ],
 "metadata": {
  "kernelspec": {
   "display_name": "Python 3",
   "language": "python",
   "name": "python3"
  },
  "language_info": {
   "codemirror_mode": {
    "name": "ipython",
    "version": 3
   },
   "file_extension": ".py",
   "mimetype": "text/x-python",
   "name": "python",
   "nbconvert_exporter": "python",
   "pygments_lexer": "ipython3",
   "version": "3.8.10"
  }
 },
 "nbformat": 4,
 "nbformat_minor": 5
}
